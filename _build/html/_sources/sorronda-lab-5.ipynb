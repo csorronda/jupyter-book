{
 "cells": [
  {
   "cell_type": "markdown",
   "id": "7d1bff18",
   "metadata": {},
   "source": [
    "# Pytorch Exercise"
   ]
  },
  {
   "cell_type": "markdown",
   "id": "f942e45f-49d3-4f2c-b9b2-a2126550ae84",
   "metadata": {},
   "source": [
    "\n",
    "1. Perform Standard Imports\n",
    "\n",
    "\n",
    "2. Create a function called set_seed() that accepts seed: int as a parameter, this function must return nothing but just set the seed to a certain value.\n",
    "\n",
    "\n",
    "3. Create a NumPy array called \"arr\" that contains 6 random integers between 0 (inclusive) and 5 (exclusive), call the set_seed() function and use 42 as the seed parameter.\n",
    "\n",
    "\n",
    "4. Create a tensor \"x\" from the array above\n",
    "\n",
    "\n",
    "5. Change the dtype of x from int32 to int64\n",
    "\n",
    "\n",
    "6. Reshape x into a 3x2 tensor\n",
    "There are several ways to do this.\n",
    "\n",
    "\n",
    "7. Return the right-hand column of tensor x\n",
    "\n",
    "\n",
    "8. Without changing x, return a tensor of square values of x\n",
    "There are several ways to do this.\n",
    "\n",
    "\n",
    "9. Create a tensor y with the same number of elements as x, that can be matrix-multiplied with x\n",
    "Use PyTorch directly (not NumPy) to create a tensor of random integers between 0 (inclusive) and 5 (exclusive). Use 42 as seed.\n",
    "Think about what shape it should have to permit matrix multiplication.\n",
    "\n",
    "\n",
    "10. Find the matrix product of x and y."
   ]
  },
  {
   "cell_type": "code",
   "execution_count": 2,
   "id": "bf772589-6e2b-4e34-b600-54dad1d496b0",
   "metadata": {},
   "outputs": [],
   "source": [
    "# number 1\n",
    "import numpy as np\n",
    "import torch\n",
    "import sys"
   ]
  },
  {
   "cell_type": "code",
   "execution_count": 15,
   "id": "d344034a-3bf0-48aa-b2c4-9eef4c3f5199",
   "metadata": {},
   "outputs": [],
   "source": [
    "# number 2\n",
    "def set_seed(seed: int) -> None:\n",
    "    np.random.seed(seed)\n",
    "    torch.manual_seed(seed)"
   ]
  },
  {
   "cell_type": "code",
   "execution_count": 16,
   "id": "7c39d0a9-a3fc-4058-ac23-fcf89855955d",
   "metadata": {},
   "outputs": [
    {
     "name": "stdout",
     "output_type": "stream",
     "text": [
      "NumPy array (arr):\n",
      " [3 4 2 4 4 1]\n"
     ]
    }
   ],
   "source": [
    "# number 3\n",
    "set_seed(42)\n",
    "arr = np.random.randint(0, 5, size=6)   # 6 random integers between 0 and 5\n",
    "print(\"NumPy array (arr):\\n\", arr)"
   ]
  },
  {
   "cell_type": "code",
   "execution_count": 17,
   "id": "bde1d8ec-1285-48e0-b65e-5275b0b5fb7c",
   "metadata": {},
   "outputs": [
    {
     "name": "stdout",
     "output_type": "stream",
     "text": [
      "\n",
      "Tensor x:\n",
      " tensor([3, 4, 2, 4, 4, 1], dtype=torch.int32)\n"
     ]
    }
   ],
   "source": [
    "# number 4\n",
    "x = torch.from_numpy(arr)\n",
    "print(\"\\nTensor x:\\n\", x)"
   ]
  },
  {
   "cell_type": "code",
   "execution_count": 18,
   "id": "2ec48c46-4208-4a88-85c0-2b2783ebb5fa",
   "metadata": {},
   "outputs": [
    {
     "name": "stdout",
     "output_type": "stream",
     "text": [
      "\n",
      "Tensor x (int64):\n",
      " tensor([3, 4, 2, 4, 4, 1])\n"
     ]
    }
   ],
   "source": [
    "# number 5\n",
    "x = x.to(torch.int64)\n",
    "print(\"\\nTensor x (int64):\\n\", x)"
   ]
  },
  {
   "cell_type": "code",
   "execution_count": 24,
   "id": "e6ad6887-7b72-4d6b-a194-2a83255ba2bc",
   "metadata": {},
   "outputs": [
    {
     "name": "stdout",
     "output_type": "stream",
     "text": [
      "\n",
      "Tensor x reshaped (3x2):\n",
      " tensor([[3, 4],\n",
      "        [2, 4],\n",
      "        [4, 1]])\n"
     ]
    }
   ],
   "source": [
    "# number 6\n",
    "x = x.reshape(3, 2)\n",
    "print(\"\\nTensor x reshaped (3x2):\\n\", x)"
   ]
  },
  {
   "cell_type": "code",
   "execution_count": 25,
   "id": "62edf3ed-c28f-4c61-815f-d0a3268038d8",
   "metadata": {},
   "outputs": [
    {
     "name": "stdout",
     "output_type": "stream",
     "text": [
      "\n",
      "Right-hand column:\n",
      " tensor([4, 4, 1])\n"
     ]
    }
   ],
   "source": [
    "# number 7\n",
    "right_col = x[:, 1]\n",
    "print(\"\\nRight-hand column:\\n\", right_col)"
   ]
  },
  {
   "cell_type": "code",
   "execution_count": 26,
   "id": "430d489c-e8fe-497f-b4cf-133041363a73",
   "metadata": {},
   "outputs": [
    {
     "name": "stdout",
     "output_type": "stream",
     "text": [
      "\n",
      "Squared values of x:\n",
      " tensor([[ 9, 16],\n",
      "        [ 4, 16],\n",
      "        [16,  1]])\n"
     ]
    }
   ],
   "source": [
    "# number 8\n",
    "x_squared = x ** 2   # or torch.square(x)\n",
    "print(\"\\nSquared values of x:\\n\", x_squared)"
   ]
  },
  {
   "cell_type": "code",
   "execution_count": 27,
   "id": "abdd725f-2cba-4230-8bef-752f794d703e",
   "metadata": {},
   "outputs": [
    {
     "name": "stdout",
     "output_type": "stream",
     "text": [
      "\n",
      "Tensor y (2x3):\n",
      " tensor([[2, 2, 1],\n",
      "        [4, 1, 0]])\n"
     ]
    }
   ],
   "source": [
    "# number 9\n",
    "set_seed(42)\n",
    "y = torch.randint(0, 5, (2, 3))\n",
    "print(\"\\nTensor y (2x3):\\n\", y)"
   ]
  },
  {
   "cell_type": "code",
   "execution_count": 28,
   "id": "5f1ce2b7-9a49-4922-8634-d63ba7024f8e",
   "metadata": {},
   "outputs": [
    {
     "name": "stdout",
     "output_type": "stream",
     "text": [
      "\n",
      "Matrix product (x @ y):\n",
      " tensor([[22, 10,  3],\n",
      "        [20,  8,  2],\n",
      "        [12,  9,  4]])\n"
     ]
    }
   ],
   "source": [
    "# number 10\n",
    "product = torch.matmul(x, y)\n",
    "print(\"\\nMatrix product (x @ y):\\n\", product)"
   ]
  },
  {
   "cell_type": "code",
   "execution_count": null,
   "id": "b51e30f0-16ab-42d3-8788-f0ed5aa49cbf",
   "metadata": {},
   "outputs": [],
   "source": []
  }
 ],
 "metadata": {
  "kernelspec": {
   "display_name": "Python 3",
   "language": "python",
   "name": "python3"
  },
  "language_info": {
   "codemirror_mode": {
    "name": "ipython",
    "version": 3
   },
   "file_extension": ".py",
   "mimetype": "text/x-python",
   "name": "python",
   "nbconvert_exporter": "python",
   "pygments_lexer": "ipython3",
   "version": "3.9.6"
  }
 },
 "nbformat": 4,
 "nbformat_minor": 5
}
